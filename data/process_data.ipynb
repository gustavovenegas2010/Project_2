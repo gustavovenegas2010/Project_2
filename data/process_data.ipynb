{
 "cells": [
  {
   "cell_type": "markdown",
   "metadata": {},
   "source": [
    "# ETL Pipeline\n",
    "\n",
    "In this code you will find the ETL pipeline process (extract, transform and load)"
   ]
  },
  {
   "cell_type": "markdown",
   "metadata": {},
   "source": [
    "## 1. load libraries\n",
    "\n",
    "load the necessary libraries to execute the codes of the following parts"
   ]
  },
  {
   "cell_type": "code",
   "execution_count": null,
   "metadata": {},
   "outputs": [],
   "source": [
    "import requests\n",
    "import sys\n",
    "import numpy as np\n",
    "import pandas as pd\n",
    "import sqlite3\n",
    "import matplotlib.pyplot as plt\n",
    "from sqlalchemy import create_engine"
   ]
  },
  {
   "cell_type": "markdown",
   "metadata": {},
   "source": [
    "## 2. Extract data\n",
    "\n",
    "Extracts the database and its outputs are the dependent and independent variables and the key."
   ]
  },
  {
   "cell_type": "code",
   "execution_count": null,
   "metadata": {},
   "outputs": [],
   "source": [
    "def load_data(messages_filepath, categories_filepath):\n",
    "    '''\n",
    "    INPUT \n",
    "        database_filepath \n",
    "    OUTPUT\n",
    "        Returns the following variables:\n",
    "        X - Returns the input features (messages)\n",
    "        Y - Returns the categories of the dataset.  This will be used for classification based off of the input X\n",
    "        y.keys - Just returning the columns of the Y columns\n",
    "    '''\n",
    "    messages = pd.read_csv(messages_filepath)\n",
    "    categories = pd.read_csv(categories_filepath)\n",
    "    df = pd.merge(messages, categories)\n",
    "    df_temp_id = df['id']\n",
    "    return df, df_temp_id"
   ]
  },
  {
   "cell_type": "markdown",
   "metadata": {},
   "source": [
    "## 3. Clean Data\n",
    "\n",
    "Clean the Dataframe from the previous step, the common identifier is used and the output is the set of clean variables."
   ]
  },
  {
   "cell_type": "code",
   "execution_count": null,
   "metadata": {},
   "outputs": [],
   "source": [
    "def clean_data(df, df_temp_id):\n",
    "    '''\n",
    "    INPUT \n",
    "        df: Dataframe to be cleaned by the method\n",
    "        df_temp_id: the id that is to be used when merging the messages and classifications together based off of the common id\n",
    "    OUTPUT\n",
    "        df: Returns a cleaned dataframe Returns the following variables:\n",
    "    '''\n",
    "    categories =  df['categories'].str.split(';', expand=True).add_prefix('categories_')\n",
    "    messages = df[['message', 'genre', 'id']]\n",
    "    row = categories.iloc[0]\n",
    "    category_colnames = list()\n",
    "    for x in row:\n",
    "        #print(x[0:-2])\n",
    "        category_colnames.append(x[0:-2])\n",
    "    categories.columns = category_colnames\n",
    "    for column in categories:\n",
    "        # set each value to be the last character of the string\n",
    "        categories[column] =  categories[column].str[-1]\n",
    "        # convert column from string to numeric\n",
    "        categories[column] = categories[column].astype(int)\n",
    "    # drop the original categories column from `df`\n",
    "    df.drop(['categories'], axis=1, inplace = True)\n",
    "    # concatenate the original dataframe with the new `categories` dataframe\n",
    "    categories['id'] = df['id']\n",
    "\n",
    "    df = pd.merge(messages, categories)\n",
    "    # check number of duplicates\n",
    "    print(df.duplicated().sum())\n",
    "    # drop duplicates\n",
    "    df.drop_duplicates(inplace = True)\n",
    "    # check number of duplicates\n",
    "    print(df.duplicated().sum())\n",
    "    return df"
   ]
  },
  {
   "cell_type": "markdown",
   "metadata": {},
   "source": [
    "## 4. Load\n",
    "\n",
    "In the following code save the clean dataframe in SQLite"
   ]
  },
  {
   "cell_type": "code",
   "execution_count": null,
   "metadata": {},
   "outputs": [],
   "source": [
    "def save_data(df, database_filename):\n",
    "    '''\n",
    "    INPUT \n",
    "        df: Dataframe to be saved\n",
    "        database_filepath - Filepath used for saving the database     \n",
    "    OUTPUT\n",
    "        Saves the database\n",
    "    '''\n",
    "    engine = create_engine('sqlite:///data//DisasterResponse.db')\n",
    "    df.to_sql('DisasterResponse', engine, index=False)"
   ]
  },
  {
   "cell_type": "code",
   "execution_count": null,
   "metadata": {},
   "outputs": [],
   "source": [
    "def main():\n",
    "    if len(sys.argv) == 4:\n",
    "\n",
    "        messages_filepath, categories_filepath, database_filepath = sys.argv[1:]\n",
    "\n",
    "        print('Loading data...\\n    MESSAGES: {}\\n    CATEGORIES: {}'\n",
    "              .format(messages_filepath, categories_filepath))\n",
    "        df, df_temp_index = load_data(messages_filepath, categories_filepath)\n",
    "\n",
    "        print('Cleaning data...')\n",
    "        df = clean_data(df, df_temp_index)\n",
    "        \n",
    "        print('Saving data...\\n    DATABASE: {}'.format(database_filepath))\n",
    "        save_data(df, database_filepath)\n",
    "        \n",
    "        print('Cleaned data saved to database!')\n",
    "    \n",
    "    else:\n",
    "        print('Please provide the filepaths of the messages and categories '\\\n",
    "              'datasets as the first and second argument respectively, as '\\\n",
    "              'well as the filepath of the database to save the cleaned data '\\\n",
    "              'to as the third argument. \\n\\nExample: python process_data.py '\\\n",
    "              'disaster_messages.csv disaster_categories.csv '\\\n",
    "              'DisasterResponse.db')\n",
    "\n",
    "\n",
    "if __name__ == '__main__':\n",
    "    main()"
   ]
  }
 ],
 "metadata": {
  "kernelspec": {
   "display_name": "Python 3",
   "language": "python",
   "name": "python3"
  },
  "language_info": {
   "codemirror_mode": {
    "name": "ipython",
    "version": 3
   },
   "file_extension": ".py",
   "mimetype": "text/x-python",
   "name": "python",
   "nbconvert_exporter": "python",
   "pygments_lexer": "ipython3",
   "version": "3.7.6"
  }
 },
 "nbformat": 4,
 "nbformat_minor": 4
}
