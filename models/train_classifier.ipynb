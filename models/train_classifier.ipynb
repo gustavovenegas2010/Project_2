{
 "cells": [
  {
   "cell_type": "markdown",
   "metadata": {},
   "source": [
    "# ML Pipeline\n",
    "\n",
    "In this document is the Machine Learning process, where the final data is imported an a machine learning model is created"
   ]
  },
  {
   "cell_type": "markdown",
   "metadata": {},
   "source": [
    "## 1. load libraries"
   ]
  },
  {
   "cell_type": "code",
   "execution_count": null,
   "metadata": {},
   "outputs": [],
   "source": [
    "import sys\n",
    "import re\n",
    "import os\n",
    "import numpy as np\n",
    "import pandas as pd\n",
    "import matplotlib.pyplot as plt\n",
    "import pickle\n",
    "\n",
    "from sqlalchemy import create_engine\n",
    "import nltk\n",
    "nltk.download(['punkt', 'wordnet', 'averaged_perceptron_tagger'])\n",
    "from nltk.tokenize import word_tokenize\n",
    "from nltk.stem import WordNetLemmatizer\n",
    "\n",
    "from sklearn.multioutput import MultiOutputClassifier\n",
    "from sklearn.ensemble import RandomForestClassifier\n",
    "from sklearn.model_selection import train_test_split\n",
    "from sklearn.feature_extraction.text import CountVectorizer, TfidfTransformer\n",
    "from sklearn.grid_search import GridSearchCV\n",
    "from sklearn.pipeline import Pipeline\n",
    "from sklearn.metrics import classification_report\n",
    "from sklearn.neighbors import KNeighborsClassifier\n"
   ]
  },
  {
   "cell_type": "markdown",
   "metadata": {},
   "source": [
    "## 2. Load Data\n",
    "\n",
    "This part downloads the final data from the ETL Pipeline and creates X and y"
   ]
  },
  {
   "cell_type": "code",
   "execution_count": null,
   "metadata": {},
   "outputs": [],
   "source": [
    "def load_data(database_filepath):\n",
    "    '''\n",
    "    INPUT \n",
    "        database_filepath    \n",
    "    OUTPUT\n",
    "        Returns the following variables:\n",
    "        X - Returns the input features( messages)\n",
    "        Y - Returns the categories of the dataset.  This will be used for classification based off of the input X\n",
    "        y.keys - Just returning the columns of the Y columns\n",
    "    '''\n",
    "    engine = create_engine('sqlite:///data/DisasterResponse.db')\n",
    "    df =  pd.read_sql_table('DisasterResponse', engine)\n",
    "    X = df.message.values\n",
    "    y = df.iloc[:,5:]\n",
    "    return X, y, y.keys()"
   ]
  },
  {
   "cell_type": "markdown",
   "metadata": {},
   "source": [
    "## 3. Text preparation\n",
    "\n",
    "This part prepares text for modeling"
   ]
  },
  {
   "cell_type": "code",
   "execution_count": null,
   "metadata": {},
   "outputs": [],
   "source": [
    "def tokenize(text):\n",
    "    '''\n",
    "    INPUT \n",
    "        text: Text to be processed   \n",
    "    OUTPUT\n",
    "        Returns a processed text variable that was tokenized, lower cased, stripped, and lemmatized\n",
    "    '''\n",
    "    tokens = word_tokenize(text)\n",
    "    lemmatizer = WordNetLemmatizer()\n",
    "    clean_tokens = []\n",
    "    for tok in tokens:\n",
    "        clean_tok = lemmatizer.lemmatize(tok).lower().strip()\n",
    "        clean_tokens.append(clean_tok)\n",
    "\n",
    "    return clean_tokens"
   ]
  },
  {
   "cell_type": "markdown",
   "metadata": {},
   "source": [
    "## 4. Model Building\n",
    "\n",
    "This part creates a pipeline that builds a machine learning model"
   ]
  },
  {
   "cell_type": "code",
   "execution_count": null,
   "metadata": {},
   "outputs": [],
   "source": [
    "def build_model(X_train,y_train):\n",
    "    '''\n",
    "    INPUT \n",
    "        X_Train: Training features for use by GridSearchCV\n",
    "        y_train: Training labels for use by GridSearchCV\n",
    "    OUTPUT\n",
    "        Returns a pipeline model that has gone through tokenization, count vectorization, \n",
    "        TFIDTransofmration and created into a ML model\n",
    "    '''\n",
    "    pipeline = Pipeline([\n",
    "        ('vect', CountVectorizer(tokenizer=tokenize)),\n",
    "        ('tfidf', TfidfTransformer()),\n",
    "        ('clf', MultiOutputClassifier(RandomForestClassifier()))\n",
    "    ])\n",
    "    \n",
    "    parameters = {  \n",
    "        'clf__estimator__min_samples_split': [2, 4],\n",
    "        #'clf__estimator__max_features': ['log2', 'auto', 'sqrt', None],\n",
    "        #'clf__estimator__criterion': ['gini', 'entropy'],\n",
    "        #'clf__estimator__max_depth': [None, 25, 50, 100, 150, 200],\n",
    "    }\n",
    "    cv = GridSearchCV(estimator=pipeline, param_grid=parameters)\n",
    "    cv.fit(X_train,y_train)\n",
    "    return cv"
   ]
  },
  {
   "cell_type": "markdown",
   "metadata": {},
   "source": [
    "## 5. Model Evaluation\n",
    "\n",
    "the following code creates the evaluation of the model"
   ]
  },
  {
   "cell_type": "code",
   "execution_count": null,
   "metadata": {},
   "outputs": [],
   "source": [
    "def evaluate_model(pipeline, X_test, Y_test, category_names):\n",
    "    '''\n",
    "    INPUT \n",
    "        pipeline: The model that is to be evaluated\n",
    "        X_test: Input features, testing set\n",
    "        y_test: Label features, testing set\n",
    "        category_names: List of the categories \n",
    "    OUTPUT\n",
    "        This method does nto specifically return any data to its calling method.\n",
    "        However, it prints out the precision, recall and f1-score\n",
    "    '''\n",
    "    # predict on test data\n",
    "    y_pred = pipeline.predict(X_test)\n",
    "    print(classification_report(Y_test, y_pred, target_names=Y_test.keys()))"
   ]
  },
  {
   "cell_type": "markdown",
   "metadata": {},
   "source": [
    "## 6. Save Model\n",
    "\n",
    "This part saves the model as pickle"
   ]
  },
  {
   "cell_type": "code",
   "execution_count": null,
   "metadata": {},
   "outputs": [],
   "source": [
    "def save_model(model, model_filepath):\n",
    "    '''\n",
    "    Saves the model to disk\n",
    "    INPUT \n",
    "        model: The model to be saved\n",
    "        model_filepath: Filepath for where the model is to be saved\n",
    "    OUTPUT\n",
    "        While there is no specific item that is returned to its calling method, this method will save the model as a pickle file.\n",
    "    '''    \n",
    "    temp_pickle = open(model_filepath, 'wb')\n",
    "    pickle.dump(model, temp_pickle)\n",
    "    temp_pickle.close()"
   ]
  },
  {
   "cell_type": "code",
   "execution_count": null,
   "metadata": {},
   "outputs": [],
   "source": [
    "def main():\n",
    "    if len(sys.argv) == 3:\n",
    "        database_filepath, model_filepath = sys.argv[1:]\n",
    "        print('Loading data...\\n    DATABASE: {}'.format(database_filepath))\n",
    "        X, Y, category_names = load_data(database_filepath)\n",
    "        X_train, X_test, Y_train, Y_test = train_test_split(X, Y, test_size=0.2)\n",
    "        \n",
    "        print('Building model...')\n",
    "        model = build_model(X_train,Y_train)\n",
    "        \n",
    "        print('Training model...')\n",
    "        model.fit(X_train, Y_train)\n",
    "        \n",
    "        print('Evaluating model...')\n",
    "        evaluate_model(model, X_test, Y_test, category_names)\n",
    "        \n",
    "        \n",
    "        ###WILL NEED TO CXLEAN THIS UP\n",
    "        print('TYPE OF MODEL')\n",
    "        print(type(model))\n",
    "        \n",
    "        \n",
    "        print('Saving model...\\n    MODEL: {}'.format(model_filepath))\n",
    "        save_model(model, model_filepath)\n",
    "\n",
    "        print('Trained model saved!')\n",
    "\n",
    "    else:\n",
    "        print('Please provide the filepath of the disaster messages database '\\\n",
    "              'as the first argument and the filepath of the pickle file to '\\\n",
    "              'save the model to as the second argument. \\n\\nExample: python '\\\n",
    "              'train_classifier.py ../data/DisasterResponse.db classifier.pkl')\n",
    "\n",
    "\n",
    "if __name__ == '__main__':\n",
    "    main()"
   ]
  }
 ],
 "metadata": {
  "kernelspec": {
   "display_name": "Python 3",
   "language": "python",
   "name": "python3"
  },
  "language_info": {
   "codemirror_mode": {
    "name": "ipython",
    "version": 3
   },
   "file_extension": ".py",
   "mimetype": "text/x-python",
   "name": "python",
   "nbconvert_exporter": "python",
   "pygments_lexer": "ipython3",
   "version": "3.7.6"
  }
 },
 "nbformat": 4,
 "nbformat_minor": 4
}
